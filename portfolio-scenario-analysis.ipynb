{
 "cells": [
  {
   "cell_type": "code",
   "execution_count": 1,
   "metadata": {},
   "outputs": [],
   "source": [
    "import pandas as pd\n",
    "import numpy as np\n",
    "\n",
    "import simfin as sf\n",
    "from simfin.names import *\n",
    "\n",
    "import matplotlib.pyplot as plt"
   ]
  },
  {
   "cell_type": "code",
   "execution_count": 2,
   "metadata": {},
   "outputs": [],
   "source": [
    "sf.set_data_dir('simfin_data/')\n",
    "sf.set_api_key(api_key='free')"
   ]
  },
  {
   "cell_type": "code",
   "execution_count": 3,
   "metadata": {},
   "outputs": [
    {
     "name": "stdout",
     "output_type": "stream",
     "text": [
      "Dataset \"us-shareprices-daily\" on disk (1 days old).\n",
      "- Loading from disk ... Done!\n"
     ]
    }
   ],
   "source": [
    "df_prices = sf.load_shareprices(variant='daily', market='us')"
   ]
  },
  {
   "cell_type": "code",
   "execution_count": 4,
   "metadata": {},
   "outputs": [
    {
     "data": {
      "text/html": [
       "<div>\n",
       "<style scoped>\n",
       "    .dataframe tbody tr th:only-of-type {\n",
       "        vertical-align: middle;\n",
       "    }\n",
       "\n",
       "    .dataframe tbody tr th {\n",
       "        vertical-align: top;\n",
       "    }\n",
       "\n",
       "    .dataframe thead th {\n",
       "        text-align: right;\n",
       "    }\n",
       "</style>\n",
       "<table border=\"1\" class=\"dataframe\">\n",
       "  <thead>\n",
       "    <tr style=\"text-align: right;\">\n",
       "      <th></th>\n",
       "      <th>SimFinId</th>\n",
       "      <th>Open</th>\n",
       "      <th>Low</th>\n",
       "      <th>High</th>\n",
       "      <th>Close</th>\n",
       "      <th>Adj. Close</th>\n",
       "      <th>Dividend</th>\n",
       "      <th>Volume</th>\n",
       "      <th>Shares Outstanding</th>\n",
       "    </tr>\n",
       "    <tr>\n",
       "      <th>Date</th>\n",
       "      <th></th>\n",
       "      <th></th>\n",
       "      <th></th>\n",
       "      <th></th>\n",
       "      <th></th>\n",
       "      <th></th>\n",
       "      <th></th>\n",
       "      <th></th>\n",
       "      <th></th>\n",
       "    </tr>\n",
       "  </thead>\n",
       "  <tbody>\n",
       "    <tr>\n",
       "      <th>2007-01-03</th>\n",
       "      <td>59265</td>\n",
       "      <td>29.91</td>\n",
       "      <td>29.40</td>\n",
       "      <td>30.25</td>\n",
       "      <td>29.86</td>\n",
       "      <td>21.91</td>\n",
       "      <td>NaN</td>\n",
       "      <td>76935100</td>\n",
       "      <td>NaN</td>\n",
       "    </tr>\n",
       "    <tr>\n",
       "      <th>2007-01-04</th>\n",
       "      <td>59265</td>\n",
       "      <td>29.70</td>\n",
       "      <td>29.44</td>\n",
       "      <td>29.97</td>\n",
       "      <td>29.81</td>\n",
       "      <td>21.88</td>\n",
       "      <td>NaN</td>\n",
       "      <td>45774500</td>\n",
       "      <td>NaN</td>\n",
       "    </tr>\n",
       "    <tr>\n",
       "      <th>2007-01-05</th>\n",
       "      <td>59265</td>\n",
       "      <td>29.63</td>\n",
       "      <td>29.45</td>\n",
       "      <td>29.75</td>\n",
       "      <td>29.64</td>\n",
       "      <td>21.75</td>\n",
       "      <td>NaN</td>\n",
       "      <td>44607200</td>\n",
       "      <td>NaN</td>\n",
       "    </tr>\n",
       "    <tr>\n",
       "      <th>2007-01-08</th>\n",
       "      <td>59265</td>\n",
       "      <td>29.65</td>\n",
       "      <td>29.53</td>\n",
       "      <td>30.10</td>\n",
       "      <td>29.93</td>\n",
       "      <td>21.96</td>\n",
       "      <td>NaN</td>\n",
       "      <td>50220200</td>\n",
       "      <td>NaN</td>\n",
       "    </tr>\n",
       "    <tr>\n",
       "      <th>2007-01-09</th>\n",
       "      <td>59265</td>\n",
       "      <td>30.00</td>\n",
       "      <td>29.73</td>\n",
       "      <td>30.18</td>\n",
       "      <td>29.96</td>\n",
       "      <td>21.99</td>\n",
       "      <td>NaN</td>\n",
       "      <td>44636600</td>\n",
       "      <td>NaN</td>\n",
       "    </tr>\n",
       "  </tbody>\n",
       "</table>\n",
       "</div>"
      ],
      "text/plain": [
       "            SimFinId   Open    Low   High  Close  Adj. Close  Dividend  \\\n",
       "Date                                                                     \n",
       "2007-01-03     59265  29.91  29.40  30.25  29.86       21.91       NaN   \n",
       "2007-01-04     59265  29.70  29.44  29.97  29.81       21.88       NaN   \n",
       "2007-01-05     59265  29.63  29.45  29.75  29.64       21.75       NaN   \n",
       "2007-01-08     59265  29.65  29.53  30.10  29.93       21.96       NaN   \n",
       "2007-01-09     59265  30.00  29.73  30.18  29.96       21.99       NaN   \n",
       "\n",
       "              Volume  Shares Outstanding  \n",
       "Date                                      \n",
       "2007-01-03  76935100                 NaN  \n",
       "2007-01-04  45774500                 NaN  \n",
       "2007-01-05  44607200                 NaN  \n",
       "2007-01-08  50220200                 NaN  \n",
       "2007-01-09  44636600                 NaN  "
      ]
     },
     "execution_count": 4,
     "metadata": {},
     "output_type": "execute_result"
    }
   ],
   "source": [
    "df_prices.loc['MSFT'].head()"
   ]
  },
  {
   "cell_type": "code",
   "execution_count": 5,
   "metadata": {},
   "outputs": [],
   "source": [
    "portfolio_composition = [('MSFT',0.5),('AAPL',0.2),('GOOG',0.3)]\n",
    "\n",
    "returns = pd.DataFrame({})"
   ]
  },
  {
   "cell_type": "code",
   "execution_count": 6,
   "metadata": {},
   "outputs": [
    {
     "name": "stderr",
     "output_type": "stream",
     "text": [
      "/Users/khor.eanyee/miniconda3/envs/simfin/lib/python3.7/site-packages/pandas/core/frame.py:3607: SettingWithCopyWarning: \n",
      "A value is trying to be set on a copy of a slice from a DataFrame.\n",
      "Try using .loc[row_indexer,col_indexer] = value instead\n",
      "\n",
      "See the caveats in the documentation: https://pandas.pydata.org/pandas-docs/stable/user_guide/indexing.html#returning-a-view-versus-a-copy\n",
      "  self._set_item(key, value)\n"
     ]
    }
   ],
   "source": [
    "for t in portfolio_composition:\n",
    "    \n",
    "    name = t[0]\n",
    "    data = df_prices.loc[name]\n",
    "    data[f'return_{name}'] = data['Adj. Close'].pct_change(1)\n",
    "\n",
    "    returns = returns.join(data[[f'return_{name}']],how='outer').dropna()"
   ]
  },
  {
   "cell_type": "code",
   "execution_count": 7,
   "metadata": {},
   "outputs": [
    {
     "data": {
      "text/html": [
       "<div>\n",
       "<style scoped>\n",
       "    .dataframe tbody tr th:only-of-type {\n",
       "        vertical-align: middle;\n",
       "    }\n",
       "\n",
       "    .dataframe tbody tr th {\n",
       "        vertical-align: top;\n",
       "    }\n",
       "\n",
       "    .dataframe thead th {\n",
       "        text-align: right;\n",
       "    }\n",
       "</style>\n",
       "<table border=\"1\" class=\"dataframe\">\n",
       "  <thead>\n",
       "    <tr style=\"text-align: right;\">\n",
       "      <th></th>\n",
       "      <th>return_MSFT</th>\n",
       "      <th>return_AAPL</th>\n",
       "      <th>return_GOOG</th>\n",
       "    </tr>\n",
       "    <tr>\n",
       "      <th>Date</th>\n",
       "      <th></th>\n",
       "      <th></th>\n",
       "      <th></th>\n",
       "    </tr>\n",
       "  </thead>\n",
       "  <tbody>\n",
       "    <tr>\n",
       "      <th>2014-03-28</th>\n",
       "      <td>0.023726</td>\n",
       "      <td>-0.001165</td>\n",
       "      <td>0.002740</td>\n",
       "    </tr>\n",
       "    <tr>\n",
       "      <th>2014-03-31</th>\n",
       "      <td>0.017167</td>\n",
       "      <td>0.000000</td>\n",
       "      <td>-0.005393</td>\n",
       "    </tr>\n",
       "    <tr>\n",
       "      <th>2014-04-01</th>\n",
       "      <td>0.010408</td>\n",
       "      <td>0.009329</td>\n",
       "      <td>0.018295</td>\n",
       "    </tr>\n",
       "    <tr>\n",
       "      <th>2014-04-02</th>\n",
       "      <td>-0.001670</td>\n",
       "      <td>0.001155</td>\n",
       "      <td>-0.000282</td>\n",
       "    </tr>\n",
       "    <tr>\n",
       "      <th>2014-04-03</th>\n",
       "      <td>-0.008087</td>\n",
       "      <td>-0.006924</td>\n",
       "      <td>0.004832</td>\n",
       "    </tr>\n",
       "    <tr>\n",
       "      <th>...</th>\n",
       "      <td>...</td>\n",
       "      <td>...</td>\n",
       "      <td>...</td>\n",
       "    </tr>\n",
       "    <tr>\n",
       "      <th>2020-07-13</th>\n",
       "      <td>-0.030859</td>\n",
       "      <td>-0.004618</td>\n",
       "      <td>-0.019718</td>\n",
       "    </tr>\n",
       "    <tr>\n",
       "      <th>2020-07-14</th>\n",
       "      <td>0.006144</td>\n",
       "      <td>0.016556</td>\n",
       "      <td>0.006114</td>\n",
       "    </tr>\n",
       "    <tr>\n",
       "      <th>2020-07-15</th>\n",
       "      <td>-0.001454</td>\n",
       "      <td>0.006950</td>\n",
       "      <td>-0.004564</td>\n",
       "    </tr>\n",
       "    <tr>\n",
       "      <th>2020-07-16</th>\n",
       "      <td>-0.019802</td>\n",
       "      <td>-0.012362</td>\n",
       "      <td>0.002880</td>\n",
       "    </tr>\n",
       "    <tr>\n",
       "      <th>2020-07-17</th>\n",
       "      <td>-0.005100</td>\n",
       "      <td>-0.001982</td>\n",
       "      <td>-0.001614</td>\n",
       "    </tr>\n",
       "  </tbody>\n",
       "</table>\n",
       "<p>1588 rows × 3 columns</p>\n",
       "</div>"
      ],
      "text/plain": [
       "            return_MSFT  return_AAPL  return_GOOG\n",
       "Date                                             \n",
       "2014-03-28     0.023726    -0.001165     0.002740\n",
       "2014-03-31     0.017167     0.000000    -0.005393\n",
       "2014-04-01     0.010408     0.009329     0.018295\n",
       "2014-04-02    -0.001670     0.001155    -0.000282\n",
       "2014-04-03    -0.008087    -0.006924     0.004832\n",
       "...                 ...          ...          ...\n",
       "2020-07-13    -0.030859    -0.004618    -0.019718\n",
       "2020-07-14     0.006144     0.016556     0.006114\n",
       "2020-07-15    -0.001454     0.006950    -0.004564\n",
       "2020-07-16    -0.019802    -0.012362     0.002880\n",
       "2020-07-17    -0.005100    -0.001982    -0.001614\n",
       "\n",
       "[1588 rows x 3 columns]"
      ]
     },
     "execution_count": 7,
     "metadata": {},
     "output_type": "execute_result"
    }
   ],
   "source": [
    "returns"
   ]
  },
  {
   "cell_type": "markdown",
   "metadata": {},
   "source": [
    "## What if analysis\n",
    "\n",
    "Scenario analysis can be performed to know what happens if certain conditions will occur. "
   ]
  },
  {
   "cell_type": "code",
   "execution_count": 8,
   "metadata": {},
   "outputs": [],
   "source": [
    "def simulate_modified_returns(historical_returns, forecast_days, correct_mean_by):\n",
    "\n",
    "    h = historical_returns.copy()\n",
    "    new_series = h + correct_mean_by\n",
    "\n",
    "    return new_series.sample(n=forecast_days,replace=True).reset_index(drop=True)"
   ]
  },
  {
   "cell_type": "code",
   "execution_count": 9,
   "metadata": {},
   "outputs": [],
   "source": [
    "def simulate_modified_portfolio(ticker, portfolio_composition, historical_returns, forecast_days):\n",
    "    \n",
    "    name = ticker\n",
    "    weight = portfolio_composition[name]['weight']\n",
    "    correction = portfolio_composition[name]['correction']\n",
    "    s = simulate_modified_returns(historical_returns[f'return_{name}'], forecast_days, correction)\n",
    "    s = s * weight\n",
    "  \n",
    "    return s"
   ]
  },
  {
   "cell_type": "code",
   "execution_count": 10,
   "metadata": {},
   "outputs": [],
   "source": [
    "def simulation(ticker, portfolio_composition, historical_returns,forecast_days,n_iterations):\n",
    "    simulated_portfolios = None\n",
    "\n",
    "    for i in range(n_iterations):\n",
    "        sim = simulate_modified_portfolio(ticker, portfolio_composition, historical_returns, forecast_days)\n",
    "\n",
    "        sim_port = pd.DataFrame({'returns_%d' % (i) : sim})\n",
    "\n",
    "        if simulated_portfolios is None:\n",
    "            simulated_portfolios = sim_port\n",
    "        else:\n",
    "            simulated_portfolios = simulated_portfolios.join(sim_port)\n",
    "    \n",
    "    return simulated_portfolios"
   ]
  },
  {
   "cell_type": "markdown",
   "metadata": {},
   "source": [
    "## Simulation with what if analysis\n",
    "\n",
    "Let’s try to simulate what happens if the average returns drop by -0.0001 for MSFT, -0.001 for AAPL and -0.0005 for GOOG. We must subtract these quantities from each stock and then simulate the future portfolios with the new, modified data.\n",
    "\n",
    "### 1. Confidence interval for future portfolios\n",
    "\n",
    "5th percentile of the future cumulative return: There is a 5% chance that our portfolio will underperform this value\n",
    "95th percentile of the future cumulative return: There is a 5% chance your portfolio will outperform this value\n",
    "\n",
    "We also want to check how the average portfolio will perform.\n",
    "\n",
    "### 2. Probability of reaching a target return\n",
    "\n",
    "An analysis to determine the probability that our portfolio will outperform a target return as a function of the day in the future.\n",
    "\n",
    "### 3. Expected value and histogram of Sharpe ratio"
   ]
  },
  {
   "cell_type": "code",
   "execution_count": 11,
   "metadata": {},
   "outputs": [
    {
     "data": {
      "text/plain": [
       "return_MSFT    0.001257\n",
       "return_AAPL    0.001234\n",
       "return_GOOG    0.000764\n",
       "dtype: float64"
      ]
     },
     "execution_count": 11,
     "metadata": {},
     "output_type": "execute_result"
    }
   ],
   "source": [
    "returns.mean(axis=0)"
   ]
  },
  {
   "cell_type": "code",
   "execution_count": 12,
   "metadata": {},
   "outputs": [],
   "source": [
    "portfolio_composition = dict()\n",
    "\n",
    "portfolio_composition['MSFT']={'weight':0.5,\n",
    "                               'correction':-0.0001}\n",
    "\n",
    "portfolio_composition['AAPL']={'weight':0.2,\n",
    "                               'correction':-0.001}\n",
    "\n",
    "portfolio_composition['GOOG']={'weight':0.3,\n",
    "                               'correction':-0.0005}"
   ]
  },
  {
   "cell_type": "code",
   "execution_count": 13,
   "metadata": {},
   "outputs": [
    {
     "data": {
      "text/plain": [
       "{'MSFT': {'weight': 0.5, 'correction': -0.0001},\n",
       " 'AAPL': {'weight': 0.2, 'correction': -0.001},\n",
       " 'GOOG': {'weight': 0.3, 'correction': -0.0005}}"
      ]
     },
     "execution_count": 13,
     "metadata": {},
     "output_type": "execute_result"
    }
   ],
   "source": [
    "portfolio_composition"
   ]
  },
  {
   "cell_type": "code",
   "execution_count": 14,
   "metadata": {},
   "outputs": [],
   "source": [
    "FORECAST_DAYS = 20\n",
    "N_ITERATIONS = 200"
   ]
  },
  {
   "cell_type": "code",
   "execution_count": 15,
   "metadata": {},
   "outputs": [],
   "source": [
    "def get_ci(simulated_portfolio):\n",
    "    \n",
    "    percentile_5th = simulated_portfolio.cumsum().apply(lambda x : np.percentile(x,5),axis=1)\n",
    "    percentile_95th = simulated_portfolio.cumsum().apply(lambda x : np.percentile(x,95),axis=1)\n",
    "    average_port = simulated_portfolio.cumsum().apply(lambda x : np.mean(x),axis=1)\n",
    "    \n",
    "    return percentile_5th, percentile_95th, average_port\n",
    "\n",
    "def get_prob(simulated_portfolio, n_iterations, target_return=0.02):\n",
    "    \n",
    "    target_prob_port = simulated_portfolio.cumsum().apply(lambda x : np.mean(x > target_return),axis=1)\n",
    "    err_bars = np.sqrt(target_prob_port*(1-target_prob_port)/n_iterations)\n",
    "    \n",
    "    return target_prob_port, err_bars\n",
    "\n",
    "def get_sharpe(simulated_portfolio):\n",
    "    \n",
    "    sharpe_indices = simulated_portfolio.apply(lambda x : np.mean(x)/np.std(x))\n",
    "    sharpe_mean = np.mean(sharpe_indices)\n",
    "    \n",
    "    return sharpe_indices, sharpe_mean"
   ]
  },
  {
   "cell_type": "code",
   "execution_count": 17,
   "metadata": {
    "scrolled": false
   },
   "outputs": [
    {
     "data": {
      "image/png": "[encoded data removed]",
      "text/plain": [
       "<Figure size 1080x576 with 3 Axes>"
      ]
     },
     "metadata": {
      "needs_background": "light"
     },
     "output_type": "display_data"
    },
    {
     "data": {
      "image/png": "[encoded data removed]",
      "text/plain": [
       "<Figure size 1080x576 with 3 Axes>"
      ]
     },
     "metadata": {
      "needs_background": "light"
     },
     "output_type": "display_data"
    },
    {
     "data": {
      "image/png": "[encoded data removed]",
      "text/plain": [
       "<Figure size 1080x576 with 3 Axes>"
      ]
     },
     "metadata": {
      "needs_background": "light"
     },
     "output_type": "display_data"
    }
   ],
   "source": [
    "for ticker in portfolio_composition.keys():\n",
    "\n",
    "    simulated_portfolio = simulation(ticker, portfolio_composition, returns, \n",
    "                                     forecast_days=FORECAST_DAYS, n_iterations=N_ITERATIONS)\n",
    "    \n",
    "    # Confidence interval for future portfolios\n",
    "    percentile_5th, percentile_95th, average_port = get_ci(simulated_portfolio)\n",
    "    \n",
    "    # Probability of beating the portfolio target\n",
    "    target_return = 0.02\n",
    "    target_prob_port, err_bars = get_prob(simulated_portfolio, n_iterations=N_ITERATIONS, target_return=0.02)\n",
    "    \n",
    "    # Sharpe ratio histogram\n",
    "    sharpe_indices, sharpe_mean = get_sharpe(simulated_portfolio)\n",
    "    \n",
    "    # Plot\n",
    "    fig, ax = plt.subplots(1, 3, figsize=(15,8))\n",
    "    \n",
    "    x = range(FORECAST_DAYS)\n",
    "\n",
    "    ax[0].plot(x,average_port,label='Average portfolio')\n",
    "    ax[0].set_xlabel('Day')\n",
    "    ax[0].set_ylabel('Portfolio Return')\n",
    "\n",
    "    ax[0].fill_between(x, percentile_5th, percentile_95th,alpha=0.2)\n",
    "    ax[0].grid()\n",
    "    ax[0].legend()\n",
    "    \n",
    "    ax[1].bar(x,target_prob_port,yerr = err_bars)\n",
    "    ax[1].set_xlabel('Day')\n",
    "    ax[1].set_ylabel('Probability of return >= %.2f' % (target_return))\n",
    "    ax[1].grid()\n",
    "    \n",
    "    ax[2].hist(sharpe_indices,bins='rice', label='%.3f' % (sharpe_mean))\n",
    "    ax[2].set_xlabel('Sharpe ratio')\n",
    "    ax[2].legend()\n",
    "    \n",
    "    plt.suptitle(f'Portfolio ({ticker})')\n",
    "    plt.tight_layout()\n",
    "    plt.show()"
   ]
  },
  {
   "cell_type": "markdown",
   "metadata": {},
   "source": [
    "## Observations\n",
    "\n",
    "Take MSFT as an example:\n",
    "\n",
    "**1. Confidence interval for future portfolios**\n",
    "\n",
    "After 20 days there is a 5% probability that our portfolio will lose 6% (lower band) and there is a 5% probability that our portfolio return will be greater than 7% (upper band). On average, we expect our portfolio to have a 1% return (solid line).\n",
    "\n",
    "**2. Probability of reaching a target return**\n",
    "\n",
    "The probability of overperforming our target return (i.e. 2% in this case) increases with time (that’s obviously true since our portfolio has a positive average return). After 20 days, our portfolio will outperform the 2% target with a 45 +/- 2.3% probability."
   ]
  },
  {
   "cell_type": "markdown",
   "metadata": {},
   "source": [
    "---"
   ]
  },
  {
   "cell_type": "markdown",
   "metadata": {},
   "source": [
    "# Archieve\n",
    "\n",
    "\n",
    "## Monte Carlo simulation of a portfolio\n",
    "\n",
    "1. A very simple simulation where the future returns are a random sample of the past returns.\n",
    "\n",
    "2. A portfolio is a combination of returns and weights (i.e. the weighted sum of the stock returns)."
   ]
  },
  {
   "cell_type": "code",
   "execution_count": null,
   "metadata": {},
   "outputs": [],
   "source": [
    "def simulate_returns(historical_return,forecast_days):\n",
    "    \n",
    "    return historical_return.sample(n = forecast_days, replace = True).reset_index(drop = True)"
   ]
  },
  {
   "cell_type": "code",
   "execution_count": null,
   "metadata": {},
   "outputs": [],
   "source": [
    "simulate_returns(returns['return_MSFT'],forecast_days=10)"
   ]
  },
  {
   "cell_type": "code",
   "execution_count": null,
   "metadata": {},
   "outputs": [],
   "source": [
    "def simulate_portfolio(historical_returns,composition,forecast_days):\n",
    "\n",
    "    for idx, t in enumerate(composition):\n",
    "        name, weight = t[0], t[1]\n",
    "        s = simulate_returns(historical_returns[f'return_{name}'], forecast_days)\n",
    "        s = s * weight\n",
    "        \n",
    "        if idx==0:\n",
    "            df_result = s\n",
    "        \n",
    "        else:\n",
    "            df_result = pd.concat([df_result, s], axis=1)\n",
    "        \n",
    "    return df_result"
   ]
  },
  {
   "cell_type": "code",
   "execution_count": null,
   "metadata": {},
   "outputs": [],
   "source": [
    "df_result = simulate_portfolio(returns,portfolio_composition,10)"
   ]
  },
  {
   "cell_type": "code",
   "execution_count": null,
   "metadata": {},
   "outputs": [],
   "source": [
    "df_result"
   ]
  },
  {
   "cell_type": "markdown",
   "metadata": {},
   "source": [
    "---"
   ]
  },
  {
   "cell_type": "markdown",
   "metadata": {},
   "source": [
    "## Reference\n",
    "\n",
    "https://github.com/gianlucamalato/machinelearning/blob/master/Portfolio_scenario_analysis.ipynb"
   ]
  }
 ],
 "metadata": {
  "kernelspec": {
   "display_name": "Python 3",
   "language": "python",
   "name": "python3"
  },
  "language_info": {
   "codemirror_mode": {
    "name": "ipython",
    "version": 3
   },
   "file_extension": ".py",
   "mimetype": "text/x-python",
   "name": "python",
   "nbconvert_exporter": "python",
   "pygments_lexer": "ipython3",
   "version": "3.7.6"
  }
 },
 "nbformat": 4,
 "nbformat_minor": 4
}
